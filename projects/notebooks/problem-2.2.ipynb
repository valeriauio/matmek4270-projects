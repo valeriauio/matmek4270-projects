{
 "cells": [
  {
   "cell_type": "markdown",
   "id": "737c7d1c-c87b-45d7-9dad-953bf859e561",
   "metadata": {
    "jp-MarkdownHeadingCollapsed": true
   },
   "source": [
    "\n",
    "## Problem 2.2 - Explore the $\\theta$-rule for exponential growth\n",
    "\n",
    "This exercise asks you to solve the ODE $u'=-au$ with $a < 0$ such that\n",
    "the ODE models exponential growth instead of exponential decay.  A\n",
    "central theme is to investigate numerical artifacts and non-physical\n",
    "solution behavior.\n",
    "\n",
    "1) Set $a=-1$ and run experiments with $\\theta=0, 0.5, 1$ for various values of $\\Delta t$ to uncover numerical artifacts. Recall that the exact solution is a monotone, growing function when $a < 0$. Oscillations or significantly wrong growth are signs of wrong qualitative behavior.\n",
    "\n",
    "From the experiments, select four values of $\\Delta t$ that\n",
    "demonstrate the kind of numerical solutions that are characteristic\n",
    "for this model.\n",
    "\n",
    "2) Write up the amplification factor and plot it for $\\theta=0,0.5,1$ together with the exact one for $a\\Delta t < 0$. Use the plot to explain the observations made in the experiments.\n",
    "\n",
    "Hint: [decay_ampf_plot.py](https://github.com/hplgit/decay-book/blob/master/src/analysis/decay_ampf_plot.py)"
   ]
  }
 ],
 "metadata": {
  "kernelspec": {
   "display_name": "Python 3 (ipykernel)",
   "language": "python",
   "name": "python3"
  },
  "language_info": {
   "codemirror_mode": {
    "name": "ipython",
    "version": 3
   },
   "file_extension": ".py",
   "mimetype": "text/x-python",
   "name": "python",
   "nbconvert_exporter": "python",
   "pygments_lexer": "ipython3",
   "version": "3.11.5"
  }
 },
 "nbformat": 4,
 "nbformat_minor": 5
}
